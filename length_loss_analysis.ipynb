{
 "cells": [
  {
   "cell_type": "markdown",
   "metadata": {},
   "source": [
    "### Import python packages"
   ]
  },
  {
   "cell_type": "code",
   "execution_count": null,
   "metadata": {},
   "outputs": [],
   "source": [
    "import geopandas as gp\n"
   ]
  },
  {
   "cell_type": "markdown",
   "metadata": {},
   "source": [
    "### User-defined inputs"
   ]
  },
  {
   "cell_type": "code",
   "execution_count": null,
   "metadata": {},
   "outputs": [],
   "source": [
    "shapefile_path = \n",
    "epsg_code = "
   ]
  },
  {
   "cell_type": "markdown",
   "metadata": {},
   "source": [
    "### load shapefiles"
   ]
  },
  {
   "cell_type": "code",
   "execution_count": null,
   "metadata": {},
   "outputs": [],
   "source": [
    "shapefile = gp.read_file(shapefile_path)\n",
    "\n",
    "#set crs to a projected coordinate system\n",
    "#choose appropriately for your location\n",
    "shapefile = shapefile.to_crs(epsg=epsg_code)\n",
    "\n",
    "#create column in dataframe with length of each feature\n",
    "shapefile['length'] = shapefile.geometry.length"
   ]
  }
 ],
 "metadata": {
  "language_info": {
   "name": "python"
  }
 },
 "nbformat": 4,
 "nbformat_minor": 2
}
